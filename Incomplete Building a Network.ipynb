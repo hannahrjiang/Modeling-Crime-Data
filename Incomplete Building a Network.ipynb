{
 "cells": [
  {
   "cell_type": "markdown",
   "metadata": {},
   "source": [
    "# Activity 2: Building a Network"
   ]
  },
  {
   "cell_type": "markdown",
   "metadata": {},
   "source": [
    "## A quick note\n",
    "I would again encourage you to run cells one by one to avoid getting sidetracked.\n",
    "For this activity, you will also need to download <a href= \"https://cytoscape.org/index.html\" >Cytoscape</a> to build our model. \n",
    "\n",
    "## Introduction\n",
    "\n",
    "Now that we’ve cited when, where, and what crimes occur, it’s time to determine why. By identifying some of the causes of crimes, officials can make efforts to prevent and predict future criminal activity. According to the <a href= \"https://ucr.fbi.gov/hate-crime/2011/resources/variables-affecting-crime#:~:text=The%20transience%20of%20the%20population,and%20comprehending%20the%20crime%20issue.\" >FBI</a>, the variables affecting crime are as follows:\n",
    "- Population density \n",
    "- Degree of urbanization\n",
    "- Youth concentration of population\n",
    "- Family conditions\n",
    "- Median income\n",
    "- Poverty level\n",
    "- Employment\n",
    "- Education\n",
    "- Recreational characteristics\n",
    "- General health\n",
    "\n",
    "With this information, we'll use data of the Seattle area to answer the following question:\n",
    "Do all these variables directly correlate with crime rates in Seattle? Do some correlate more than others? If so, why?\n",
    "\n",
    "To do this, we'll create a network that can visualize the relationship between each of these factors and an area’s crime rate. We'll do this through combining them into a dataset along with an area's crime rate, then selecting certain variables that align to those above. Using the correlations between these variables, we'll draw and analyze a model using Cytoscape.\n",
    "\n",
    "\n",
    "### Editing Datasets and Choosing Columns\n",
    "Run the cell below to import the libraries and datasets we'll use in this activity."
   ]
  },
  {
   "cell_type": "code",
   "execution_count": null,
   "metadata": {
    "code_folding": []
   },
   "outputs": [],
   "source": [
    "#Import libraries\n",
    "import pandas as pd\n",
    "import numpy as np\n",
    "import seaborn as sns\n",
    "import matplotlib.pyplot as plt\n",
    "from scipy.stats import spearmanr\n",
    "import networkx as nx\n",
    "\n",
    "#Edit crime columns\n",
    "crime = pd.read_csv(\"updated_crime.csv\")\n",
    "crime = crime.replace(\"Destruction/Damage/Vandalism of Property\", \"Destruction/Damage of Property\")\n",
    "crime[\"GEOID10\"] = crime[\"GEOID10\"].map(lambda x: str(x)[:-4]).astype(int)\n",
    "\n",
    "#Edit equity columns\n",
    "equity = pd.read_csv(\"/Users/hannahjiang/Desktop/equity.csv\")\n",
    "equity = equity[equity['GEOID10'].isin(crime[\"GEOID10\"].to_list())]\n",
    "\n",
    "#Use neighborhood table to convert census data\n",
    "neighborhood = pd.read_csv(\"/Users/hannahjiang/Desktop/neighborhooddata.csv\")\n",
    "new_neighborhood = neighborhood.copy()\n",
    "new_neighborhood.set_index(\"CRA_NAME\", inplace = True)\n",
    "new_dict = new_neighborhood.to_dict()[\"GEOID10\"]\n",
    "\n",
    "\n",
    "census = pd.read_csv(\"/Users/hannahjiang/Desktop/Community Reporting Areas.csv\")\n",
    "census.replace({\"Community Reporting Area Names\":new_dict}, inplace = True)\n",
    "census.rename(columns = {\"Community Reporting Area Names\": \"GEOID10\"}, inplace = True)\n",
    "census[\"GEOID10\"] = census[\"GEOID10\"].map(lambda x: str(x)[:-4]).astype(int)\n",
    "\n",
    "#Create table with all GEOIDs and the number of crimes in each\n",
    "get_geo = pd.DataFrame(crime[\"GEOID10\"].value_counts())\n",
    "get_geo.reset_index(inplace=True)\n",
    "get_geo.columns=['GEOID10','Count']\n",
    "\n",
    "#Merge GEOIDs with census and equity data\n",
    "neighborhood_data = get_geo.merge(census)\n",
    "neighborhood_data = neighborhood_data.merge(equity)\n",
    "neighborhood_data[\"Total Population\"] = neighborhood_data[\"Total Population\"].str.replace(',', '').astype(float)\n",
    "neighborhood_data[\"Crime Rate\"] =((neighborhood_data[\"Count\"]/neighborhood_data[\"Total Population\"])*100000).astype(float)\n",
    "\n",
    "pd.set_option('display.max_columns', None)\n",
    "neighborhood_data.head(3)"
   ]
  },
  {
   "cell_type": "markdown",
   "metadata": {},
   "source": [
    "Above, we've combined two datasets: the 2010 Community Reporting Areas Profile and the 2010 Racial and Social Equity Composite Index into a single dataset. If you wish to read the sourcepage of the data, the links are below:\n",
    "\n",
    "<a href= \"http://data-seattlecitygis.opendata.arcgis.com/datasets/b7433a239a4945029e95aae402d68385_0\" >2010 Community Reporting Areas Profile</a>\n",
    "\n",
    "<a href= \"http://data-seattlecitygis.opendata.arcgis.com/datasets/racial-and-social-equity-composite-index?selectedAttribute=PCT_FOREIGN_BORN\" >2010 Racial and Social Equity Composite Index</a>\n",
    "\n",
    "We've also added a \"Crime rate\" column (as can be seen above). \n",
    "\n",
    "Now, run the cell below to see all the column names in our dataset."
   ]
  },
  {
   "cell_type": "code",
   "execution_count": null,
   "metadata": {
    "scrolled": true
   },
   "outputs": [],
   "source": [
    "neighborhood_data.columns.to_list()"
   ]
  },
  {
   "cell_type": "markdown",
   "metadata": {},
   "source": [
    "Scroll up and down the list of columns above. Most of these columns will help us determine whether a variable described above (such as education, employment, population density, etc.) affect crime rates.\n",
    "\n",
    "It's time to pick out the columns that could aid us in building our network.\n",
    "\n",
    "Here are some of the ways columns were sorted:\n",
    "- Columns that don't have an effect on crime, such as \"Neighborhood ID,\" \"Neighborhood Names,\" or \"Shape__Area\" were removed\n",
    "- \"PTL\" stands for percentile and \"PCT\" stands for percent. Generally, it's better to use percentages instead of percentiles, so all percentile columns were removed\n",
    "- A couple columns that weren't variables of crime were left in, such as \"Percent foreign born\" or \"Percent of population that speaks language other than English.\" This was to see if there were any correlations to crime that hadn't been accounted for in previous research."
   ]
  },
  {
   "cell_type": "code",
   "execution_count": null,
   "metadata": {
    "code_folding": [],
    "scrolled": false
   },
   "outputs": [],
   "source": [
    "#Choose columns\n",
    "chosen_columns = [\n",
    " 'Crime Rate',\n",
    " 'Median Age (years)',\n",
    " 'Average Household Size',\n",
    " 'Percent Occupied Housing Units',\n",
    " 'Percent Value Housing Units',\n",
    " 'Percent High school graduate or higher',\n",
    " 'Percent Bachelor degree or higher',\n",
    " 'Percent Speak English less than very well',\n",
    " 'Median household income(dollars)',\n",
    " 'Percentage of all people whose income in the past 12 months is below poverty',\n",
    " 'Percent of Population that speaks language other than English',\n",
    " 'Percent of Population under 18 years',\n",
    " 'Median gross rent (dollars)',\n",
    " 'Percent civilian labor force that is unemployed',\n",
    " 'Population per Gross Acres',\n",
    " 'Housing Units per Gross Acres',\n",
    " 'Households per Gross Acres',\n",
    " 'PCT_POP_INC_UNDER_200_POVERTY',\n",
    " 'PCT_LESS_BACHELOR_DEGREE',\n",
    " 'PCT_ADULTNOLEISUREPHYSACTIVITY',\n",
    " 'PCT_ADULTMENTALHEALTHNOTGOOD',\n",
    " 'PCT_ADULT_WITH_DISABILITIES',\n",
    " 'PCT_LOW_LIFE_EXPECT_AT_BIRTH',\n",
    " 'SOCIOECONOMIC_QUINTILE',\n",
    " 'HEALTH_QUINTILE']\n",
    "\n",
    "#Set one-hot encoder values and apply to neighborhood_data\n",
    "replace_socio = {\"Lowest\":0, \"Second lowest\": 1, \"Middle\": 2, \"Second highest\":3, \n",
    "                 \"Highest priority/Most disadvantaged\":4}\n",
    "neighborhood_data = neighborhood_data.replace({\"HEALTH_QUINTILE\":replace_socio})\n",
    "neighborhood_data = neighborhood_data.replace({\"SOCIOECONOMIC_QUINTILE\":replace_socio})\n",
    "neighborhood_data = neighborhood_data.replace({\"COMPOSITE_QUINTILE\":replace_socio})\n",
    "\n",
    "\n",
    "neighborhood_data= neighborhood_data[chosen_columns]\n",
    "neighborhood_data.head(3)"
   ]
  },
  {
   "cell_type": "markdown",
   "metadata": {},
   "source": [
    "Above is our dataset after removing unwanted columns. Here are the columns that were kept:\n",
    "- Crime Rate\n",
    "- Median Age (years)\n",
    "- Average Household Size\n",
    "- Percent Occupied Housing Units\n",
    "- Percent Value Housing Units\n",
    "- Percent High school graduate or higher\n",
    "- Percent Bachelor degree or higher\n",
    "- Percent Speak English less than very well\n",
    "- Median household income(dollars)\n",
    "- Percentage of all people whose income in the past 12 months is below poverty\n",
    "- Percent of Population that speaks language other than English\n",
    "- Percent of Population under 18 years\n",
    "- Median gross rent (dollars)\n",
    "- Percent civilian labor force that is unemployed\n",
    "- Population per Gross Acres\n",
    "- Housing Units per Gross Acres\n",
    "- Households per Gross Acres\n",
    "- PCT_POP_INC_UNDER_200_POVERTY - Percent of the population whose income is under that of 200% poverty\n",
    "- PCT_LESS_BACHELOR_DEGREE - Percent of the population whose educational attainment is less than a bachelor's degree\n",
    "- PCT_ADULTNOLEISUREPHYSACTIVITY - Percent of the population with little to no leisure or physical activity\n",
    "- PCT_ADULTMENTALHEALTHNOTGOOD -  Percent of the population with poor mental health\n",
    "- PCT_ADULT_WITH_DISABILITIES - Percent of the population with disabilities\n",
    "- PCT_LOW_LIFE_EXPECT_AT_BIRTH - Percent of the population with a low life expectancy at birth\n",
    "- SOCIOECONOMIC_QUINTILE - Ranked from 0-4 depending on education and income\n",
    "- HEALTH_QUINTILE - ranked from 0-4 depending on overall health\n",
    "\n",
    "\n",
    "As you can see, every column contains numeric values to scale the level of education, employment, population density, health, etc. of an area. Using the crime rate of an area and our previously defined variables of crime, we can use these numerical values to find the correlations between each column below. \n",
    "\n",
    "### Finding Correlations\n",
    "\n",
    "The table below gives an R value, also known as a correlation coefficient, that represents the strength and direction of a linear relationship between two variables in a scatterplot. Correlation coefficients range from -1 to 1, and are interpreted as so:\n",
    "\n",
    "- If the absolute value of an R value is below 0.4, it indicates a low correlation between two variables. In the image below, the scatterplot with an R value of 0.3 has points farther from the line of best fit.\n",
    "- If the absolute value of an R value is above 0.4, it indicates a high correlation between two variables. In the image below, the scatterplot with an R value of 0.7 has points closer the line of best fit. \n",
    "\n",
    "\n",
    "<img src = \"pearson.png\" width = \"500\" height = \"1000\">\n",
    "\n",
    "\n",
    "- A positive correlation (above 0) means that the two variables are directly related- if one variable increases, so will the other, and if one variable decreases, so will the other\n",
    "- A negative correlation (below 0) means that the two variables are inversely related- if one variable increases, the other decreases, and if one variable decreases, the other increases.\n",
    "\n",
    "<img src = \"pearson-2-small.png\" width = \"500\" height = \"1000\">\n",
    "\n",
    "The cell below will compare each column in our dataset so we can visualize not only the relationship between crime rate and other variables, but the relationships between individual variables too."
   ]
  },
  {
   "cell_type": "code",
   "execution_count": null,
   "metadata": {
    "scrolled": true
   },
   "outputs": [],
   "source": [
    "#Convert object columns\n",
    "neighborhood_data['Median gross rent (dollars)'] = neighborhood_data['Median gross rent (dollars)'].str.replace(',', '').astype(int)\n",
    "neighborhood_data['Median household income(dollars)'] = neighborhood_data['Median household income(dollars)'].str.replace(',', '').astype(int)\n",
    "\n",
    "#Find correlations between each column\n",
    "corr = neighborhood_data.corr(method = 'spearman')\n",
    "corr"
   ]
  },
  {
   "cell_type": "markdown",
   "metadata": {},
   "source": [
    "Run the following cell to load the first couple rows of the table."
   ]
  },
  {
   "cell_type": "code",
   "execution_count": null,
   "metadata": {},
   "outputs": [],
   "source": [
    "corr.head(3)"
   ]
  },
  {
   "cell_type": "markdown",
   "metadata": {},
   "source": [
    "We can see that crime rate has a perfect correlation coefficient of 1.0 with crime rate. This is obvious, since the two columns are exactly the same.\n",
    "\n",
    "For the following questions, find:\n",
    "    \n",
    "- The R value between the two variables\n",
    "- The type of correlation it indicates\n",
    "\n",
    "\n",
    "<blockquote>\n",
    "<h4>Median age and crime rate</h4>\n",
    "<details><summary>Solution:</summary>\n",
    "Crime rate and median age have an R value of -0.16, a low negative correlation. This indicates that they are hardly related.\n",
    "    </details>\n",
    "\n",
    "<h4>Average Household Size and Crime Rate</h4>\n",
    "<details><summary>Solution:</summary>\n",
    "Crime rate and average household size have an R value of -0.56, a high negative correlation. This indicates that crime rate and average household size are related- for every positive increase in the crime rate, there is a decrease in the average household size. Therefore, an area with a smaller average household size would be more likely to have a high crime rate.\n",
    "     </details>\n",
    "    \n",
    "<h4>Average Household Size and Percent of Population under 18 years</h4>\n",
    "<details><summary>Solution:</summary>\n",
    "Average household size and the percent of the population under 18 years have an R value of 0.87, a high positive correlation. This indicates that these two variables are related- for every increase in the average household size, there is an increase in the percent of the population under 18 years of age. An area with a high average household size would most likely have a high percent of the population under 18 years of age.\n",
    "     </details>\n",
    "    \n",
    "<h4>Median age and Percent Occupied Housing Units</h4>\n",
    "<details><summary>Solution:</summary>\n",
    "Median age and percent occupied housing units have an R value of 0.093, a low positive correlation. This low correlation coefficient indicates that the two are hardly related.\n",
    "  </details>\n",
    "   \n",
    "    \n",
    "</blockquote>"
   ]
  },
  {
   "cell_type": "markdown",
   "metadata": {},
   "source": [
    "All the relationships that were statistically significant (absolute value of r is greater than 0.4) are in the table below."
   ]
  },
  {
   "cell_type": "code",
   "execution_count": null,
   "metadata": {
    "scrolled": true
   },
   "outputs": [],
   "source": [
    "#Find links between columns depending on correlation\n",
    "links = corr.stack().reset_index()\n",
    "links.columns = ['var1', 'var2','value']\n",
    "links_filtered=links.loc[(abs(links['value']) > 0.4) & (links['var1'] != links['var2'])]\n",
    "links_filtered"
   ]
  },
  {
   "cell_type": "markdown",
   "metadata": {},
   "source": [
    "We will use this table to create a map in Cytoscape. The cell below will download a CSV file of the table above, but it may appear in the \"files\" menu in Jupyter Notebook. If so, open it, go to \"file,\" and click \"download.\""
   ]
  },
  {
   "cell_type": "code",
   "execution_count": null,
   "metadata": {},
   "outputs": [],
   "source": [
    "#Get table of links\n",
    "relationships = links_filtered.drop([\"value\"],axis = 1)\n",
    "relationships.to_csv(\"relationships.csv\")"
   ]
  },
  {
   "cell_type": "markdown",
   "metadata": {},
   "source": [
    "#### If you are unable to use Cytoscape or download the necessary table, scroll to the \"Networkx\" section of this page.\n",
    "\n",
    "### Using Cytoscape to build a network\n",
    "This part of the activity requires <a href= \"https://cytoscape.org/index.html\" >Cytoscape</a> to build a network of the relations between our columns.\n",
    "\n",
    "\n",
    "1. Open Cytoscape, then click \"File,\" \"Import,\" then \"Network from File.\" Select the table you just downloaded, \"relationships.csv\". \n",
    "2. On the column labeled \"var1,\" click and select the green circle. On the column labeled \"var2,\" click and select the red target. Your screen should look a bit like this:\n",
    "\n",
    "\n",
    "<img src = \"Screen Shot 2020-08-08 at 9.36.26 PM.png\" width = \"500\" height = \"1000\">\n",
    "\n",
    "3. Hit \"ok,\" then the \"style\" button on the left side of the page.\n",
    "4. Under the dropdown menu at the top left, select the style \"sample1.\" This will make your model a little easier to view.\n",
    "<blockquote>\n",
    "    <h3>Model Investigation:</h3>\n",
    "\n",
    "    Find the \"Crime Rate\" node. What other nodes are connected to it? What does this mean? \n",
    "    \n",
    "    Do these nodes share correlations with others?\n",
    "\n",
    "    <br>\n",
    "\n",
    "    <details><summary>Solution:</summary>\n",
    "    The \"Crime Rate\" node is connected to the \"Average Household Size,\" \"Percent of Population under 18 years,\" and \"PCT_POP_INC_UNDER_200_POVERTY\" nodes. This means that crime rate has a high correlation with these factors. However, several of these nodes are also correlated to others as well. \"Average Household Size\" and \"Percent of Population under 18 years\" are correlated to other variables that involve population density and degree of urbanization, such as \"Population per Gross Acre\" and \"Housing Units per Gross Acre. \"PCT_POP_INC_UNDER_200_POVERTY,\" which stands for \"percent of the population whose income is 200% under that of poverty level,\" is correlated with a wide range of variables that involve mental health, physical health, income, education, and employment.\n",
    "      </details> \n",
    "</blockquote>\n",
    "What's the relation between Crime Rate and these nodes? Run the following cell to find out."
   ]
  },
  {
   "cell_type": "code",
   "execution_count": null,
   "metadata": {},
   "outputs": [],
   "source": [
    "links_filtered.head(3)"
   ]
  },
  {
   "cell_type": "markdown",
   "metadata": {},
   "source": [
    "### Model Investigation pt.  2\n",
    "- <h4> Crime Rate and Average Household Size: </h4> Crime rate and average household size have an R value of -0.56, meaning that for every decrease in average household size, there is an increase in crime rate (and vice versa). Areas with a high average household size generally have more than 1 or 2 people living in them, which indicates that a higher density of unified families live there. Living in a family setting generally discourages adults or youth from committing crimes, which is why the crime rate is generally low for these areas.\n",
    "\n",
    "\n",
    "- <h4> Crime Rate and Percent of Population under 18 years: </h4> Crime rate and percent of the population under 18 years of age have an R value of -0.5, meaning that for every increase in the percent of population under 18 years of age, there is a decrease in crime rate. This makes sense for the same reason as above- an area with a high youth concentration would tend to be more family-centered, which could discourage crime.\n",
    "\n",
    "- <h4> Crime Rate and Percent of Population under 200 percent of poverty: </h4> Crime rate and percent of population whose income is under 200 percent of poverty have an R value of 0.43, meaning that for every increase in the percent under 200 percent of poverty, there is an increase in crime rate. This makes sense, since areas with a high poverty concentration would tend to have a high crime rate.\n",
    "    \n",
    "    \n",
    "\n",
    "### Key Takeaways\n",
    "Let's answer the question we asked at the beginning of this activity:\n",
    "\n",
    "Do all the following variables directly correlate with crime rates in Seattle? Do some correlate more than others? If so, why?\n",
    "- Population density \n",
    "- Degree of urbanization\n",
    "- Youth concentration of population\n",
    "- Family conditions\n",
    "- Median income\n",
    "- Poverty level\n",
    "- Employment\n",
    "- Education\n",
    "- Recreational characteristics\n",
    "- General health\n",
    "\n",
    "<details><summary>Solution:</summary>\n",
    "    Not all of the variables above were directly correlated with crime in Seattle, but those that did were closely associated with population density, youth concentration, family conditions, and poverty level. However, this is not to say that the other variables did not affect crime rates in any way. Factors like poverty level are correlated to general health, employment, education, and income, which are correlated to recreational characteristics and urbanization. Though we’ve concluded that some variables are more closely related to crime than others, it’s important to remember that there are a lot of different factors that all share complex relations to each other. These relations all act together to alter an area’s crime rate.\n",
    "\n",
    "</details> \n",
    "\n",
    "Now that we know a little about the relationships between variables affecting crime, can we use them to predict crime rates in different areas? Proceed to \"Activity 3: Applying Machine Learning\" to find out!"
   ]
  },
  {
   "cell_type": "markdown",
   "metadata": {},
   "source": [
    "### Using Networkx (Only nessesary if you skipped \"Using Cytoscape\" section)\n",
    "\n",
    "If you are unable to download the table or Cytoscape, select the three quotation marks (\"\"\") at the beginning and end of the following code block, then run it. It will also produce a network, but it'll just be harder to read than the Cytoscape version. Once you have completed this, continue to the \"Model Investigation\" and \"Model Investigation pt.2\" sections."
   ]
  },
  {
   "cell_type": "code",
   "execution_count": null,
   "metadata": {},
   "outputs": [],
   "source": [
    "#Get network\n",
    "G = nx.from_pandas_edgelist(links_filtered, 'var1', 'var2')\n",
    "#Draw Network\n",
    "plt.figure(figsize=(16,16))\n",
    "color_map = []\n",
    "\n",
    "for node in G:\n",
    "    if node == \"Crime Rate\":\n",
    "        color_map.append('pink')\n",
    "    else:\n",
    "        color_map.append('orange')\n",
    "\n",
    "pos = nx.spring_layout(G, k=10*1/np.sqrt(len(G.nodes())), iterations=40)\n",
    "nx.draw(G,with_labels=True,node_color=color_map, pos=pos, node_size=2000, \n",
    "        edge_color='black', font_size=10)"
   ]
  }
 ],
 "metadata": {
  "kernelspec": {
   "display_name": "Python 3",
   "language": "python",
   "name": "python3"
  },
  "language_info": {
   "codemirror_mode": {
    "name": "ipython",
    "version": 3
   },
   "file_extension": ".py",
   "mimetype": "text/x-python",
   "name": "python",
   "nbconvert_exporter": "python",
   "pygments_lexer": "ipython3",
   "version": "3.7.6"
  },
  "varInspector": {
   "cols": {
    "lenName": 16,
    "lenType": 16,
    "lenVar": 40
   },
   "kernels_config": {
    "python": {
     "delete_cmd_postfix": "",
     "delete_cmd_prefix": "del ",
     "library": "var_list.py",
     "varRefreshCmd": "print(var_dic_list())"
    },
    "r": {
     "delete_cmd_postfix": ") ",
     "delete_cmd_prefix": "rm(",
     "library": "var_list.r",
     "varRefreshCmd": "cat(var_dic_list()) "
    }
   },
   "types_to_exclude": [
    "module",
    "function",
    "builtin_function_or_method",
    "instance",
    "_Feature"
   ],
   "window_display": false
  }
 },
 "nbformat": 4,
 "nbformat_minor": 4
}

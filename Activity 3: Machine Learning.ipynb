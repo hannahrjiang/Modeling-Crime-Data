{
 "cells": [
  {
   "cell_type": "code",
   "execution_count": 55,
   "metadata": {},
   "outputs": [],
   "source": [
    "import pandas as pd\n",
    "import numpy as np\n",
    "import seaborn as sns\n",
    "import matplotlib.pyplot as plt\n",
    "import sklearn\n",
    "from sklearn.model_selection import train_test_split\n",
    "from sklearn import datasets, linear_model\n",
    "import statsmodels.api as sm\n",
    "from scipy import stats\n",
    "from sklearn.model_selection import cross_val_score, cross_val_predict\n",
    "from sklearn import metrics"
   ]
  },
  {
   "cell_type": "code",
   "execution_count": 56,
   "metadata": {},
   "outputs": [],
   "source": [
    "crime = pd.read_csv(\"updated_crime.csv\")\n",
    "equity = pd.read_csv(\"/Users/hannahjiang/Desktop/equity.csv\")\n",
    "census = pd.read_csv(\"/Users/hannahjiang/Desktop/Community Reporting Areas.csv\")\n",
    "neighborhood = pd.read_csv(\"/Users/hannahjiang/Desktop/neighborhooddata.csv\")"
   ]
  },
  {
   "cell_type": "code",
   "execution_count": 57,
   "metadata": {},
   "outputs": [],
   "source": [
    "neighborhood[\"GEOID10\"] = neighborhood[\"GEOID10\"].map(lambda x: str(x)[:-4]).astype(int)"
   ]
  },
  {
   "cell_type": "code",
   "execution_count": 58,
   "metadata": {},
   "outputs": [],
   "source": [
    "crime[\"GEOID10\"] = crime[\"GEOID10\"].map(lambda x: str(x)[:-4]).astype(int)\n",
    "\n",
    "equity = equity[equity['GEOID10'].isin(crime[\"GEOID10\"].to_list())]\n",
    "\n",
    "get_neighborhood = neighborhood.set_index(\"CRA_NAME\")\n",
    "neighborhood_dict = get_neighborhood.to_dict()[\"GEOID10\"]\n",
    "\n",
    "census.replace({\"Community Reporting Area Names\":neighborhood_dict}, inplace = True)\n",
    "census.rename(columns = {\"Community Reporting Area Names\": \"GEOID10\"}, inplace = True)\n",
    "#census[\"GEOID10\"] = census[\"GEOID10\"].map(lambda x: str(x)[:-4]).astype(int)\n",
    "\n",
    "geo = pd.DataFrame(crime[\"GEOID10\"].value_counts())\n",
    "geo.reset_index(inplace=True)\n",
    "geo.columns=['GEOID10','Count']\n",
    "crime_data = geo.merge(census)\n",
    "crime_data = crime_data.merge(equity)\n",
    "crime_data[\"Total Population\"] = crime_data[\"Total Population\"].str.replace(',', '').astype(float)\n",
    "crime_data[\"Crime Rate\"] = (crime_data[\"Count\"]/crime_data[\"Total Population\"]).astype(float)"
   ]
  },
  {
   "cell_type": "code",
   "execution_count": 59,
   "metadata": {},
   "outputs": [],
   "source": [
    "chosen_columns = [\"Crime Rate\", 'Average Household Size',\n",
    " 'Percent of Population under 18 years', 'PCT_POP_INC_UNDER_200_POVERTY', 'GEOID10']\n",
    "\n",
    "crime_data= crime_data[chosen_columns]\n",
    "crime_data = crime_data.loc[crime_data[\"GEOID10\"] != 53033008100]"
   ]
  },
  {
   "cell_type": "code",
   "execution_count": 60,
   "metadata": {},
   "outputs": [
    {
     "data": {
      "text/html": [
       "<div>\n",
       "<style scoped>\n",
       "    .dataframe tbody tr th:only-of-type {\n",
       "        vertical-align: middle;\n",
       "    }\n",
       "\n",
       "    .dataframe tbody tr th {\n",
       "        vertical-align: top;\n",
       "    }\n",
       "\n",
       "    .dataframe thead th {\n",
       "        text-align: right;\n",
       "    }\n",
       "</style>\n",
       "<table border=\"1\" class=\"dataframe\">\n",
       "  <thead>\n",
       "    <tr style=\"text-align: right;\">\n",
       "      <th></th>\n",
       "      <th>Crime Rate</th>\n",
       "      <th>Average Household Size</th>\n",
       "      <th>Percent of Population under 18 years</th>\n",
       "      <th>PCT_POP_INC_UNDER_200_POVERTY</th>\n",
       "      <th>GEOID10</th>\n",
       "    </tr>\n",
       "  </thead>\n",
       "  <tbody>\n",
       "    <tr>\n",
       "      <th>1</th>\n",
       "      <td>2.161681</td>\n",
       "      <td>1.47</td>\n",
       "      <td>4.2</td>\n",
       "      <td>0.287987</td>\n",
       "      <td>53033008400</td>\n",
       "    </tr>\n",
       "    <tr>\n",
       "      <th>2</th>\n",
       "      <td>3.077618</td>\n",
       "      <td>1.99</td>\n",
       "      <td>15.1</td>\n",
       "      <td>0.417321</td>\n",
       "      <td>53033001200</td>\n",
       "    </tr>\n",
       "    <tr>\n",
       "      <th>3</th>\n",
       "      <td>0.988396</td>\n",
       "      <td>1.87</td>\n",
       "      <td>10.8</td>\n",
       "      <td>0.195256</td>\n",
       "      <td>53033005900</td>\n",
       "    </tr>\n",
       "  </tbody>\n",
       "</table>\n",
       "</div>"
      ],
      "text/plain": [
       "   Crime Rate  Average Household Size  Percent of Population under 18 years  \\\n",
       "1    2.161681                    1.47                                   4.2   \n",
       "2    3.077618                    1.99                                  15.1   \n",
       "3    0.988396                    1.87                                  10.8   \n",
       "\n",
       "   PCT_POP_INC_UNDER_200_POVERTY      GEOID10  \n",
       "1                       0.287987  53033008400  \n",
       "2                       0.417321  53033001200  \n",
       "3                       0.195256  53033005900  "
      ]
     },
     "execution_count": 60,
     "metadata": {},
     "output_type": "execute_result"
    }
   ],
   "source": [
    "crime_data.head(3)"
   ]
  },
  {
   "cell_type": "code",
   "execution_count": 61,
   "metadata": {},
   "outputs": [
    {
     "data": {
      "text/html": [
       "<div>\n",
       "<style scoped>\n",
       "    .dataframe tbody tr th:only-of-type {\n",
       "        vertical-align: middle;\n",
       "    }\n",
       "\n",
       "    .dataframe tbody tr th {\n",
       "        vertical-align: top;\n",
       "    }\n",
       "\n",
       "    .dataframe thead th {\n",
       "        text-align: right;\n",
       "    }\n",
       "</style>\n",
       "<table border=\"1\" class=\"dataframe\">\n",
       "  <thead>\n",
       "    <tr style=\"text-align: right;\">\n",
       "      <th></th>\n",
       "      <th>Crime Rate</th>\n",
       "      <th>Average Household Size</th>\n",
       "      <th>Percent of Population under 18 years</th>\n",
       "      <th>PCT_POP_INC_UNDER_200_POVERTY</th>\n",
       "      <th>GEOID10</th>\n",
       "      <th>CRA_NAME</th>\n",
       "    </tr>\n",
       "  </thead>\n",
       "  <tbody>\n",
       "    <tr>\n",
       "      <th>0</th>\n",
       "      <td>1.012112</td>\n",
       "      <td>2.28</td>\n",
       "      <td>19.0</td>\n",
       "      <td>0.131413</td>\n",
       "      <td>53033011500</td>\n",
       "      <td>Roxhill/Westwood</td>\n",
       "    </tr>\n",
       "    <tr>\n",
       "      <th>1</th>\n",
       "      <td>1.385172</td>\n",
       "      <td>2.33</td>\n",
       "      <td>22.0</td>\n",
       "      <td>0.318208</td>\n",
       "      <td>53033011300</td>\n",
       "      <td>Highland Park</td>\n",
       "    </tr>\n",
       "  </tbody>\n",
       "</table>\n",
       "</div>"
      ],
      "text/plain": [
       "   Crime Rate  Average Household Size  Percent of Population under 18 years  \\\n",
       "0    1.012112                    2.28                                  19.0   \n",
       "1    1.385172                    2.33                                  22.0   \n",
       "\n",
       "   PCT_POP_INC_UNDER_200_POVERTY      GEOID10          CRA_NAME  \n",
       "0                       0.131413  53033011500  Roxhill/Westwood  \n",
       "1                       0.318208  53033011300     Highland Park  "
      ]
     },
     "execution_count": 61,
     "metadata": {},
     "output_type": "execute_result"
    }
   ],
   "source": [
    "#We're going to predict the crime rate of these locations based on the Average Household size,\n",
    "#percent of population under 18 years, and percent of population under 200% poverty\n",
    "\n",
    "show_location = neighborhood.copy()\n",
    "show_location = show_location[[\"GEOID10\", \"CRA_NAME\"]]\n",
    "show_location = show_location.loc[show_location[\"GEOID10\"].isin([53033011300,53033011500])]\n",
    "crime_data.merge(show_location.drop_duplicates(keep=\"first\"))"
   ]
  },
  {
   "cell_type": "code",
   "execution_count": 62,
   "metadata": {},
   "outputs": [],
   "source": [
    "model_crime = crime_data.copy()\n",
    "model_crime['Log Percent of Population under 18 years'] = np.log(model_crime[\"Percent of Population under 18 years\"])\n",
    "model_crime[\"LOG_PCT_POP_INC_UNDER_200_POVERTY\"] = np.log(model_crime[\"PCT_POP_INC_UNDER_200_POVERTY\"])\n",
    "model_crime[\"Log Crime Rate\"] = np.log(model_crime[\"Crime Rate\"])\n",
    "model_crime = model_crime.drop([\"Percent of Population under 18 years\",\"PCT_POP_INC_UNDER_200_POVERTY\",\"Crime Rate\"],axis = 1)"
   ]
  },
  {
   "cell_type": "code",
   "execution_count": 63,
   "metadata": {},
   "outputs": [],
   "source": [
    "eliminate_geos = model_crime.loc[~model_crime[\"GEOID10\"].isin([53033011300,53033011500])]\n",
    "X_train = eliminate_geos.drop([\"Log Crime Rate\", \"GEOID10\"], axis = 1)\n",
    "y_train = eliminate_geos[\"Log Crime Rate\"]\n",
    "\n",
    "only_geos = model_crime.loc[model_crime[\"GEOID10\"].isin([53033011300,53033011500])]\n",
    "X_test = only_geos.drop([\"Log Crime Rate\", \"GEOID10\"],axis = 1)\n",
    "y_test = only_geos[\"Log Crime Rate\"]"
   ]
  },
  {
   "cell_type": "code",
   "execution_count": 64,
   "metadata": {},
   "outputs": [],
   "source": [
    "X = model_crime.drop([\"GEOID10\",\"Log Crime Rate\"],axis = 1)\n",
    "y = model_crime[\"Log Crime Rate\"]"
   ]
  },
  {
   "cell_type": "code",
   "execution_count": 65,
   "metadata": {},
   "outputs": [
    {
     "data": {
      "text/plain": [
       "(38,)"
      ]
     },
     "execution_count": 65,
     "metadata": {},
     "output_type": "execute_result"
    }
   ],
   "source": [
    "y.shape"
   ]
  },
  {
   "cell_type": "code",
   "execution_count": 66,
   "metadata": {},
   "outputs": [
    {
     "name": "stdout",
     "output_type": "stream",
     "text": [
      "                            OLS Regression Results                            \n",
      "==============================================================================\n",
      "Dep. Variable:         Log Crime Rate   R-squared:                       0.365\n",
      "Model:                            OLS   Adj. R-squared:                  0.309\n",
      "Method:                 Least Squares   F-statistic:                     6.505\n",
      "Date:                Mon, 03 Aug 2020   Prob (F-statistic):            0.00134\n",
      "Time:                        15:10:56   Log-Likelihood:                -39.116\n",
      "No. Observations:                  38   AIC:                             86.23\n",
      "Df Residuals:                      34   BIC:                             92.78\n",
      "Df Model:                           3                                         \n",
      "Covariance Type:            nonrobust                                         \n",
      "============================================================================================================\n",
      "                                               coef    std err          t      P>|t|      [0.025      0.975]\n",
      "------------------------------------------------------------------------------------------------------------\n",
      "const                                        2.8248      0.702      4.025      0.000       1.398       4.251\n",
      "Average Household Size                      -0.8461      0.510     -1.659      0.106      -1.882       0.190\n",
      "Log Percent of Population under 18 years    -0.0949      0.341     -0.278      0.783      -0.788       0.598\n",
      "LOG_PCT_POP_INC_UNDER_200_POVERTY            0.4679      0.212      2.202      0.035       0.036       0.900\n",
      "==============================================================================\n",
      "Omnibus:                        2.330   Durbin-Watson:                   1.236\n",
      "Prob(Omnibus):                  0.312   Jarque-Bera (JB):                1.257\n",
      "Skew:                          -0.253   Prob(JB):                        0.533\n",
      "Kurtosis:                       3.733   Cond. No.                         28.0\n",
      "==============================================================================\n",
      "\n",
      "Warnings:\n",
      "[1] Standard Errors assume that the covariance matrix of the errors is correctly specified.\n"
     ]
    }
   ],
   "source": [
    "X2 = sm.add_constant(X)\n",
    "est = sm.OLS(y,X2)\n",
    "est2 = est.fit()\n",
    "print(est2.summary())"
   ]
  },
  {
   "cell_type": "code",
   "execution_count": 67,
   "metadata": {},
   "outputs": [
    {
     "name": "stdout",
     "output_type": "stream",
     "text": [
      "Error: 0.10936637750569064\n"
     ]
    }
   ],
   "source": [
    "from sklearn.metrics import mean_squared_error\n",
    "\n",
    "lm = linear_model.LinearRegression()\n",
    "model = lm.fit(X_train, y_train)\n",
    "predictions = lm.predict(X_test)\n",
    "\n",
    "print (\"Error:\", mean_squared_error(np.abs(predictions),y_test))"
   ]
  }
 ],
 "metadata": {
  "kernelspec": {
   "display_name": "Python 3",
   "language": "python",
   "name": "python3"
  },
  "language_info": {
   "codemirror_mode": {
    "name": "ipython",
    "version": 3
   },
   "file_extension": ".py",
   "mimetype": "text/x-python",
   "name": "python",
   "nbconvert_exporter": "python",
   "pygments_lexer": "ipython3",
   "version": "3.7.6"
  }
 },
 "nbformat": 4,
 "nbformat_minor": 4
}

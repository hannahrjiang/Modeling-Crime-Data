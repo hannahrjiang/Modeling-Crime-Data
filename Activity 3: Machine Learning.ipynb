{
 "cells": [
  {
   "cell_type": "markdown",
   "metadata": {},
   "source": [
    "# Activity 3: Maching Learning Applications (Optional)"
   ]
  },
  {
   "cell_type": "markdown",
   "metadata": {},
   "source": [
    "## Introduction\n",
    "Welcome to the final activity of this project!\n",
    "Here, we'll apply the knowledge we've gained from Activity 2, where we determined that household size, youth concentration, and poverty correlate the most with crime. \n",
    "\n",
    "Using this information, is it possible to predict the future number of crimes in a specific location?\n",
    "\n",
    "To answer this question, we'll briefly run a linear regression that takes these three things into account, then use it to predict the crime rate of a neighborhood in Seattle. Run the following cell to get started."
   ]
  },
  {
   "cell_type": "code",
   "execution_count": 12,
   "metadata": {},
   "outputs": [],
   "source": [
    "import pandas as pd\n",
    "import numpy as np\n",
    "import seaborn as sns\n",
    "import sklearn\n",
    "from sklearn.model_selection import train_test_split\n",
    "from sklearn import datasets, linear_model\n",
    "import statsmodels.api as sm\n",
    "from scipy import stats\n",
    "from sklearn import metrics\n",
    "from sklearn.metrics import mean_squared_error\n",
    "\n",
    "crime = pd.read_csv(\"updated_crime.csv\")\n",
    "equity = pd.read_csv(\"equity.csv\")\n",
    "census = pd.read_csv(\"census.csv\")\n",
    "neighborhood = pd.read_csv(\"neighborhooddata.csv\")\n",
    "\n",
    "neighborhood[\"GEOID10\"] = neighborhood[\"GEOID10\"].map(lambda x: str(x)[:-4]).astype(int)\n",
    "\n",
    "crime[\"GEOID10\"] = crime[\"GEOID10\"].map(lambda x: str(x)[:-4]).astype(int)\n",
    "\n",
    "equity = equity[equity['GEOID10'].isin(crime[\"GEOID10\"].to_list())]\n",
    "\n",
    "get_neighborhood = neighborhood.set_index(\"CRA_NAME\")\n",
    "neighborhood_dict = get_neighborhood.to_dict()[\"GEOID10\"]\n",
    "\n",
    "census.replace({\"Community Reporting Area Names\":neighborhood_dict}, inplace = True)\n",
    "census.rename(columns = {\"Community Reporting Area Names\": \"GEOID10\"}, inplace = True)\n",
    "\n",
    "geo = pd.DataFrame(crime[\"GEOID10\"].value_counts())\n",
    "geo.reset_index(inplace=True)\n",
    "geo.columns=['GEOID10','Count']\n",
    "crime_data = geo.merge(census)\n",
    "crime_data = crime_data.merge(equity)\n",
    "crime_data[\"Total Population\"] = crime_data[\"Total Population\"].str.replace(',', '').astype(float)\n",
    "crime_data[\"Crime Rate\"] = (crime_data[\"Count\"]/crime_data[\"Total Population\"]).astype(float)"
   ]
  },
  {
   "cell_type": "markdown",
   "metadata": {},
   "source": [
    "Run the cell below. It'll load our previous table that tells us the crime rate, average household size, percent of population under 18, and percent of population whose income was under 200% poverty by neighborhood. Note that this data was taken during the year of 2010, so all crime rates and predictions will be for that year."
   ]
  },
  {
   "cell_type": "code",
   "execution_count": 13,
   "metadata": {},
   "outputs": [
    {
     "data": {
      "text/html": [
       "<div>\n",
       "<style scoped>\n",
       "    .dataframe tbody tr th:only-of-type {\n",
       "        vertical-align: middle;\n",
       "    }\n",
       "\n",
       "    .dataframe tbody tr th {\n",
       "        vertical-align: top;\n",
       "    }\n",
       "\n",
       "    .dataframe thead th {\n",
       "        text-align: right;\n",
       "    }\n",
       "</style>\n",
       "<table border=\"1\" class=\"dataframe\">\n",
       "  <thead>\n",
       "    <tr style=\"text-align: right;\">\n",
       "      <th></th>\n",
       "      <th>Crime Rate</th>\n",
       "      <th>Average Household Size</th>\n",
       "      <th>Percent of Population under 18 years</th>\n",
       "      <th>PCT_POP_INC_UNDER_200_POVERTY</th>\n",
       "      <th>GEOID10</th>\n",
       "    </tr>\n",
       "  </thead>\n",
       "  <tbody>\n",
       "    <tr>\n",
       "      <th>1</th>\n",
       "      <td>2.161681</td>\n",
       "      <td>1.47</td>\n",
       "      <td>4.2</td>\n",
       "      <td>0.287987</td>\n",
       "      <td>53033008400</td>\n",
       "    </tr>\n",
       "    <tr>\n",
       "      <th>2</th>\n",
       "      <td>3.077618</td>\n",
       "      <td>1.99</td>\n",
       "      <td>15.1</td>\n",
       "      <td>0.417321</td>\n",
       "      <td>53033001200</td>\n",
       "    </tr>\n",
       "    <tr>\n",
       "      <th>3</th>\n",
       "      <td>0.988396</td>\n",
       "      <td>1.87</td>\n",
       "      <td>10.8</td>\n",
       "      <td>0.195256</td>\n",
       "      <td>53033005900</td>\n",
       "    </tr>\n",
       "  </tbody>\n",
       "</table>\n",
       "</div>"
      ],
      "text/plain": [
       "   Crime Rate  Average Household Size  Percent of Population under 18 years  \\\n",
       "1    2.161681                    1.47                                   4.2   \n",
       "2    3.077618                    1.99                                  15.1   \n",
       "3    0.988396                    1.87                                  10.8   \n",
       "\n",
       "   PCT_POP_INC_UNDER_200_POVERTY      GEOID10  \n",
       "1                       0.287987  53033008400  \n",
       "2                       0.417321  53033001200  \n",
       "3                       0.195256  53033005900  "
      ]
     },
     "execution_count": 13,
     "metadata": {},
     "output_type": "execute_result"
    }
   ],
   "source": [
    "chosen_columns = [\"Crime Rate\", 'Average Household Size',\n",
    " 'Percent of Population under 18 years', 'PCT_POP_INC_UNDER_200_POVERTY', 'GEOID10']\n",
    "\n",
    "crime_data= crime_data[chosen_columns]\n",
    "crime_data = crime_data.loc[crime_data[\"GEOID10\"] != 53033008100]\n",
    "crime_data.head(3)"
   ]
  },
  {
   "cell_type": "markdown",
   "metadata": {},
   "source": [
    "### How does a linear regression work?\n",
    "Below is the equation for a linear regression line.\n",
    "\n",
    "$ y = a + b{x} $\n",
    "\n",
    "As can be seen in <a href= \"https://drive.google.com/file/d/1dOODHyyJxy3SHaLIgrNoxj1B-DVPCz_S/view?usp=sharing\">this image</a>, a linear regression uses corresponding $x$ and $y$ values to find a linear relationship between them, which is usually visualized through a line of best fit. The regression adjusts the coefficient values $a$ and $b$ to minimize the distance between each point and the line of best fit. Then, a $y$ value can be predicted by plugging a value of $x$ into the regression equation.\n",
    "\n",
    "\n",
    "Since we're using three parameters (we defined this as average household size, percent of population under 18, and percent of population whose income was under 200% poverty) to predict crime rate, our linear regression equation will look a little different:\n",
    "\n",
    "$ y = a + b{x}_{1} + c{x}_{2} + d{x}_{3} $ \n",
    "\n",
    "${x}_{1}$,${x}_{2}$, and ${x}_{3}$ all represent a parameter of the table above that will affect $y$, our predicted crime rate. Every neighborhood has separate ${x}_{1}$,${x}_{2}$, and ${x}_{3}$ values that correspond to different $y$ values in neighborhoods. Like the example above, the equation finds the values of $a$, $b$, $c$, and $d$ to create a line of best fit with the given $x$ values.  Our model will use the linear regression equation to predict the value of $y$ when given ${x}_{1}$,${x}_{2}$, and ${x}_{3}$ values.\n",
    "\n",
    "Below, we create and execute a linear regression using the table above. However, we've left two neighborhoods out to test the accuracy of our model. Run the cell below to see the results."
   ]
  },
  {
   "cell_type": "code",
   "execution_count": 14,
   "metadata": {},
   "outputs": [
    {
     "data": {
      "text/html": [
       "<div>\n",
       "<style scoped>\n",
       "    .dataframe tbody tr th:only-of-type {\n",
       "        vertical-align: middle;\n",
       "    }\n",
       "\n",
       "    .dataframe tbody tr th {\n",
       "        vertical-align: top;\n",
       "    }\n",
       "\n",
       "    .dataframe thead th {\n",
       "        text-align: right;\n",
       "    }\n",
       "</style>\n",
       "<table border=\"1\" class=\"dataframe\">\n",
       "  <thead>\n",
       "    <tr style=\"text-align: right;\">\n",
       "      <th></th>\n",
       "      <th>Crime Rate</th>\n",
       "      <th>Average Household Size</th>\n",
       "      <th>Percent of Population under 18 years</th>\n",
       "      <th>PCT_POP_INC_UNDER_200_POVERTY</th>\n",
       "      <th>GEOID10</th>\n",
       "      <th>CRA_NAME</th>\n",
       "      <th>Predicted Crime Rate</th>\n",
       "    </tr>\n",
       "  </thead>\n",
       "  <tbody>\n",
       "    <tr>\n",
       "      <th>0</th>\n",
       "      <td>0.012039</td>\n",
       "      <td>2.28</td>\n",
       "      <td>19.0</td>\n",
       "      <td>0.131413</td>\n",
       "      <td>53033011500</td>\n",
       "      <td>Roxhill/Westwood</td>\n",
       "      <td>0.014712</td>\n",
       "    </tr>\n",
       "    <tr>\n",
       "      <th>1</th>\n",
       "      <td>0.325824</td>\n",
       "      <td>2.33</td>\n",
       "      <td>22.0</td>\n",
       "      <td>0.318208</td>\n",
       "      <td>53033011300</td>\n",
       "      <td>Highland Park</td>\n",
       "      <td>0.361241</td>\n",
       "    </tr>\n",
       "  </tbody>\n",
       "</table>\n",
       "</div>"
      ],
      "text/plain": [
       "   Crime Rate  Average Household Size  Percent of Population under 18 years  \\\n",
       "0    0.012039                    2.28                                  19.0   \n",
       "1    0.325824                    2.33                                  22.0   \n",
       "\n",
       "   PCT_POP_INC_UNDER_200_POVERTY      GEOID10          CRA_NAME  \\\n",
       "0                       0.131413  53033011500  Roxhill/Westwood   \n",
       "1                       0.318208  53033011300     Highland Park   \n",
       "\n",
       "   Predicted Crime Rate  \n",
       "0              0.014712  \n",
       "1              0.361241  "
      ]
     },
     "execution_count": 14,
     "metadata": {},
     "output_type": "execute_result"
    }
   ],
   "source": [
    "model_crime = crime_data.copy()\n",
    "model_crime['Log Percent of Population under 18 years'] = np.log(model_crime[\"Percent of Population under 18 years\"])\n",
    "model_crime[\"LOG_PCT_POP_INC_UNDER_200_POVERTY\"] = np.log(model_crime[\"PCT_POP_INC_UNDER_200_POVERTY\"])\n",
    "model_crime[\"Log Crime Rate\"] = np.log(model_crime[\"Crime Rate\"])\n",
    "model_crime = model_crime.drop([\"Percent of Population under 18 years\",\"PCT_POP_INC_UNDER_200_POVERTY\",\"Crime Rate\"],axis = 1)\n",
    "\n",
    "eliminate_geos = model_crime.loc[~model_crime[\"GEOID10\"].isin([53033011300,53033011500])]\n",
    "X_train = eliminate_geos.drop([\"Log Crime Rate\", \"GEOID10\"], axis = 1)\n",
    "y_train = eliminate_geos[\"Log Crime Rate\"]\n",
    "\n",
    "only_geos = model_crime.loc[model_crime[\"GEOID10\"].isin([53033011300,53033011500])]\n",
    "X_test = only_geos.drop([\"Log Crime Rate\", \"GEOID10\"],axis = 1)\n",
    "y_test = only_geos[\"Log Crime Rate\"]\n",
    "\n",
    "X = model_crime.drop([\"GEOID10\",\"Log Crime Rate\"],axis = 1)\n",
    "y = model_crime[\"Log Crime Rate\"]\n",
    "\n",
    "lm = linear_model.LinearRegression()\n",
    "model = lm.fit(X_train, y_train)\n",
    "predictions = lm.predict(X_test)\n",
    "show_location = neighborhood.copy()\n",
    "show_location = show_location[[\"GEOID10\", \"CRA_NAME\"]]\n",
    "show_location = show_location.loc[show_location[\"GEOID10\"].isin([53033011300,53033011500])]\n",
    "show_location = crime_data.merge(show_location.drop_duplicates(keep=\"first\"))\n",
    "show_location[\"Crime Rate\"] = np.log(show_location[\"Crime Rate\"])\n",
    "show_location[\"Predicted Crime Rate\"] = abs(predictions[::-1])\n",
    "show_location\n"
   ]
  },
  {
   "cell_type": "markdown",
   "metadata": {},
   "source": [
    "Above, you can compare the Crime Rate to the Predicted Crime Rate of these two locations. \n",
    "Using this technology and data involving the three parameters we've defined, law enforcement can predict crime rates in specific neighborhoods and allot proper police force in these areas."
   ]
  }
 ],
 "metadata": {
  "kernelspec": {
   "display_name": "Python 3",
   "language": "python",
   "name": "python3"
  },
  "language_info": {
   "codemirror_mode": {
    "name": "ipython",
    "version": 3
   },
   "file_extension": ".py",
   "mimetype": "text/x-python",
   "name": "python",
   "nbconvert_exporter": "python",
   "pygments_lexer": "ipython3",
   "version": "3.7.6"
  },
  "varInspector": {
   "cols": {
    "lenName": 16,
    "lenType": 16,
    "lenVar": 40
   },
   "kernels_config": {
    "python": {
     "delete_cmd_postfix": "",
     "delete_cmd_prefix": "del ",
     "library": "var_list.py",
     "varRefreshCmd": "print(var_dic_list())"
    },
    "r": {
     "delete_cmd_postfix": ") ",
     "delete_cmd_prefix": "rm(",
     "library": "var_list.r",
     "varRefreshCmd": "cat(var_dic_list()) "
    }
   },
   "types_to_exclude": [
    "module",
    "function",
    "builtin_function_or_method",
    "instance",
    "_Feature"
   ],
   "window_display": false
  }
 },
 "nbformat": 4,
 "nbformat_minor": 4
}
